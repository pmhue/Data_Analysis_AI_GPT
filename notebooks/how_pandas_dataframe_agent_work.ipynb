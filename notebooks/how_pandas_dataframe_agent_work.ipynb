{
 "cells": [
  {
   "cell_type": "code",
   "execution_count": 25,
   "metadata": {},
   "outputs": [
    {
     "data": {
      "text/plain": [
       "True"
      ]
     },
     "execution_count": 25,
     "metadata": {},
     "output_type": "execute_result"
    }
   ],
   "source": [
    "from langchain_experimental.agents.agent_toolkits.pandas.base import create_pandas_dataframe_agent\n",
    "from langchain_openai import ChatOpenAI\n",
    "import matplotlib.pyplot as plt\n",
    "import pandas as pd\n",
    "from dotenv import load_dotenv\n",
    "\n",
    "# load environment varibles\n",
    "load_dotenv()"
   ]
  },
  {
   "cell_type": "code",
   "execution_count": 26,
   "metadata": {},
   "outputs": [
    {
     "name": "stdout",
     "output_type": "stream",
     "text": [
      "['D:\\\\Users_Data\\\\pmhue\\\\Documents\\\\Data Analysys DHKHTN\\\\dagpt\\\\dagpt', 'D:\\\\Users_Data\\\\pmhue\\\\Documents\\\\Data Analysys DHKHTN\\\\dagpt\\\\dagpt', 'd:\\\\Users_Data\\\\pmhue\\\\Documents\\\\Data Analysys DHKHTN\\\\dagpt\\\\dagpt\\\\notebooks', 'd:\\\\Users_Data\\\\pmhue\\\\Documents\\\\anaconda\\\\envs\\\\DA_LLM_GPT\\\\python310.zip', 'd:\\\\Users_Data\\\\pmhue\\\\Documents\\\\anaconda\\\\envs\\\\DA_LLM_GPT\\\\DLLs', 'd:\\\\Users_Data\\\\pmhue\\\\Documents\\\\anaconda\\\\envs\\\\DA_LLM_GPT\\\\lib', 'd:\\\\Users_Data\\\\pmhue\\\\Documents\\\\anaconda\\\\envs\\\\DA_LLM_GPT', '', 'd:\\\\Users_Data\\\\pmhue\\\\Documents\\\\anaconda\\\\envs\\\\DA_LLM_GPT\\\\lib\\\\site-packages', 'd:\\\\Users_Data\\\\pmhue\\\\Documents\\\\anaconda\\\\envs\\\\DA_LLM_GPT\\\\lib\\\\site-packages\\\\win32', 'd:\\\\Users_Data\\\\pmhue\\\\Documents\\\\anaconda\\\\envs\\\\DA_LLM_GPT\\\\lib\\\\site-packages\\\\win32\\\\lib', 'd:\\\\Users_Data\\\\pmhue\\\\Documents\\\\anaconda\\\\envs\\\\DA_LLM_GPT\\\\lib\\\\site-packages\\\\Pythonwin', '../src/']\n"
     ]
    }
   ],
   "source": [
    "import sys\n",
    "import os\n",
    "\n",
    "# Thêm thư mục cha của 'src' vào sys.path\n",
    "project_root = \"D:\\\\Users_Data\\\\pmhue\\\\Documents\\\\Data Analysys DHKHTN\\\\dagpt\\\\dagpt\"\n",
    "sys.path.insert(0, project_root)\n",
    "\n",
    "print(sys.path)  # Kiểm tra lại sys.path"
   ]
  },
  {
   "cell_type": "code",
   "execution_count": 27,
   "metadata": {},
   "outputs": [
    {
     "data": {
      "text/plain": [
       "ChatOpenAI(client=<openai.resources.chat.completions.Completions object at 0x000001F4873CD540>, async_client=<openai.resources.chat.completions.AsyncCompletions object at 0x000001F4873C3490>, model_name='gpt-4o', temperature=0.0, openai_api_key=SecretStr('**********'), openai_proxy='', max_tokens=1000)"
      ]
     },
     "execution_count": 27,
     "metadata": {},
     "output_type": "execute_result"
    }
   ],
   "source": [
    "import sys\n",
    "sys.path.append(\"../src/\")\n",
    "from src.models.llms import load_llm\n",
    "\n",
    "# MODEL_NAME = \"gpt-3.5-turbo\"\n",
    "MODEL_NAME = \"gpt-4o\"\n",
    "llm = load_llm(model_name=MODEL_NAME)\n",
    "llm"
   ]
  },
  {
   "cell_type": "code",
   "execution_count": 28,
   "metadata": {},
   "outputs": [
    {
     "data": {
      "text/plain": [
       "AIMessage(content=\"Hello! I am an AI language model based on OpenAI's GPT-4 architecture. How can I assist you today?\", response_metadata={'token_usage': {'completion_tokens': 25, 'prompt_tokens': 21, 'total_tokens': 46}, 'model_name': 'gpt-4o-2024-05-13', 'system_fingerprint': 'fp_4e2b2da518', 'finish_reason': 'stop', 'logprobs': None}, id='run-94ea2944-66f3-48cd-99da-ba762c086e75-0', usage_metadata={'input_tokens': 21, 'output_tokens': 25, 'total_tokens': 46})"
      ]
     },
     "execution_count": 28,
     "metadata": {},
     "output_type": "execute_result"
    }
   ],
   "source": [
    "llm.invoke(\"Hello. Who are you? are you gpt-4o?\")"
   ]
  },
  {
   "cell_type": "code",
   "execution_count": 29,
   "metadata": {},
   "outputs": [
    {
     "data": {
      "text/plain": [
       "AgentExecutor(verbose=True, agent=RunnableMultiActionAgent(runnable=RunnableAssign(mapper={\n",
       "  agent_scratchpad: RunnableLambda(lambda x: message_formatter(x['intermediate_steps']))\n",
       "})\n",
       "| ChatPromptTemplate(input_variables=['agent_scratchpad', 'input'], input_types={'agent_scratchpad': typing.List[typing.Union[langchain_core.messages.ai.AIMessage, langchain_core.messages.human.HumanMessage, langchain_core.messages.chat.ChatMessage, langchain_core.messages.system.SystemMessage, langchain_core.messages.function.FunctionMessage, langchain_core.messages.tool.ToolMessage]]}, messages=[SystemMessage(content='\\nYou are working with a pandas dataframe in Python. The name of the dataframe is `df`.\\nThis is the result of `print(df.head())`:\\n|    | Company   | Product     | TypeName   |   Inches | ScreenResolution                   | Cpu                        | Ram   | Memory              | Gpu                          | OpSys   | Weight   |   Price_euros | received_date   |\\n|---:|:----------|:------------|:-----------|---------:|:-----------------------------------|:---------------------------|:------|:--------------------|:-----------------------------|:--------|:---------|--------------:|:----------------|\\n|  0 | Apple     | MacBook Pro | Ultrabook  |     13.3 | IPS Panel Retina Display 2560x1600 | Intel Core i5 2.3GHz       | 8GB   | 128GB SSD           | Intel Iris Plus Graphics 640 | macOS   | 1.37kg   |       1339.69 | 7/19/2022       |\\n|  1 | Apple     | Macbook Air | Ultrabook  |     13.3 | 1440x900                           | Intel Core i5 1.8GHz       | 8GB   | 128GB Flash Storage | Intel HD Graphics 6000       | macOS   | 1.34kg   |        898.94 | 4/1/2021        |\\n|  2 | HP        | 250 G6      | Notebook   |     15.6 | Full HD 1920x1080                  | Intel Core i5 7200U 2.5GHz | 8GB   | 256GB SSD           | Intel HD Graphics 620        | No OS   | 1.86kg   |        575    | 2/18/2022       |\\n|  3 | Apple     | MacBook Pro | Ultrabook  |     15.4 | IPS Panel Retina Display 2880x1800 | Intel Core i7 2.7GHz       | 16GB  | 512GB SSD           | AMD Radeon Pro 455           | macOS   | 1.83kg   |       2537.45 | 11/23/2021      |\\n|  4 | Apple     | MacBook Pro | Ultrabook  |     13.3 | IPS Panel Retina Display 2560x1600 | Intel Core i5 3.1GHz       | 8GB   | 256GB SSD           | Intel Iris Plus Graphics 650 | macOS   | 1.37kg   |       1803.6  | 11/14/2021      |'), HumanMessagePromptTemplate(prompt=PromptTemplate(input_variables=['input'], template='{input}')), MessagesPlaceholder(variable_name='agent_scratchpad')])\n",
       "| RunnableBinding(bound=ChatOpenAI(client=<openai.resources.chat.completions.Completions object at 0x000001F4873CD540>, async_client=<openai.resources.chat.completions.AsyncCompletions object at 0x000001F4873C3490>, model_name='gpt-4o', temperature=0.0, openai_api_key=SecretStr('**********'), openai_proxy='', max_tokens=1000), kwargs={'tools': [{'type': 'function', 'function': {'name': 'python_repl_ast', 'description': 'A Python shell. Use this to execute python commands. Input should be a valid python command. When using this tool, sometimes output is abbreviated - make sure it does not look abbreviated before using it in your answer.', 'parameters': {'type': 'object', 'properties': {'query': {'description': 'code snippet to run', 'type': 'string'}}, 'required': ['query']}}}]})\n",
       "| ToolsAgentOutputParser(), input_keys_arg=['input'], return_keys_arg=['output'], stream_runnable=True), tools=[PythonAstREPLTool(locals={'df':    Company             Product   TypeName  Inches  \\\n",
       "0    Apple         MacBook Pro  Ultrabook    13.3   \n",
       "1    Apple         Macbook Air  Ultrabook    13.3   \n",
       "2       HP              250 G6   Notebook    15.6   \n",
       "3    Apple         MacBook Pro  Ultrabook    15.4   \n",
       "4    Apple         MacBook Pro  Ultrabook    13.3   \n",
       "5    Apple         MacBook Pro  Ultrabook    15.4   \n",
       "6    Apple         Macbook Air  Ultrabook    13.3   \n",
       "7     Asus     ZenBook UX430UN  Ultrabook    14.0   \n",
       "8     Acer             Swift 3  Ultrabook    14.0   \n",
       "9       HP              250 G6   Notebook    15.6   \n",
       "10      HP              250 G6   Notebook    15.6   \n",
       "11   Apple         MacBook Pro  Ultrabook    15.4   \n",
       "12    Dell       Inspiron 3567   Notebook    15.6   \n",
       "13   Apple         MacBook 12\"  Ultrabook    12.0   \n",
       "14   Apple         MacBook Pro  Ultrabook    13.3   \n",
       "15    Dell       Inspiron 3567   Notebook    15.6   \n",
       "16   Apple         MacBook Pro  Ultrabook    15.4   \n",
       "17  Lenovo   IdeaPad 320-15IKB   Notebook    15.6   \n",
       "18    Dell              XPS 13  Ultrabook    13.3   \n",
       "19  Lenovo  Legion Y520-15IKBN     Gaming    15.6   \n",
       "\n",
       "                             ScreenResolution                          Cpu  \\\n",
       "0          IPS Panel Retina Display 2560x1600         Intel Core i5 2.3GHz   \n",
       "1                                    1440x900         Intel Core i5 1.8GHz   \n",
       "2                           Full HD 1920x1080   Intel Core i5 7200U 2.5GHz   \n",
       "3          IPS Panel Retina Display 2880x1800         Intel Core i7 2.7GHz   \n",
       "4          IPS Panel Retina Display 2560x1600         Intel Core i5 3.1GHz   \n",
       "5          IPS Panel Retina Display 2880x1800         Intel Core i7 2.2GHz   \n",
       "6                                    1440x900         Intel Core i5 1.8GHz   \n",
       "7                           Full HD 1920x1080   Intel Core i7 8550U 1.8GHz   \n",
       "8                 IPS Panel Full HD 1920x1080   Intel Core i5 8250U 1.6GHz   \n",
       "9                                    1366x768   Intel Core i5 7200U 2.5GHz   \n",
       "10                          Full HD 1920x1080     Intel Core i3 6006U 2GHz   \n",
       "11         IPS Panel Retina Display 2880x1800         Intel Core i7 2.8GHz   \n",
       "12                          Full HD 1920x1080     Intel Core i3 6006U 2GHz   \n",
       "13         IPS Panel Retina Display 2304x1440       Intel Core M m3 1.2GHz   \n",
       "14         IPS Panel Retina Display 2560x1600         Intel Core i5 2.3GHz   \n",
       "15                          Full HD 1920x1080   Intel Core i7 7500U 2.7GHz   \n",
       "16         IPS Panel Retina Display 2880x1800         Intel Core i7 2.9GHz   \n",
       "17                          Full HD 1920x1080   Intel Core i3 7100U 2.4GHz   \n",
       "18  IPS Panel Full HD / Touchscreen 1920x1080   Intel Core i5 8250U 1.6GHz   \n",
       "19                IPS Panel Full HD 1920x1080  Intel Core i5 7300HQ 2.5GHz   \n",
       "\n",
       "     Ram                Memory                           Gpu       OpSys  \\\n",
       "0    8GB             128GB SSD  Intel Iris Plus Graphics 640       macOS   \n",
       "1    8GB   128GB Flash Storage        Intel HD Graphics 6000       macOS   \n",
       "2    8GB             256GB SSD         Intel HD Graphics 620       No OS   \n",
       "3   16GB             512GB SSD            AMD Radeon Pro 455       macOS   \n",
       "4    8GB             256GB SSD  Intel Iris Plus Graphics 650       macOS   \n",
       "5   16GB   256GB Flash Storage       Intel Iris Pro Graphics    Mac OS X   \n",
       "6    8GB   256GB Flash Storage        Intel HD Graphics 6000       macOS   \n",
       "7   16GB             512GB SSD          Nvidia GeForce MX150  Windows 10   \n",
       "8    8GB             256GB SSD        Intel UHD Graphics 620  Windows 10   \n",
       "9    4GB             500GB HDD         Intel HD Graphics 620       No OS   \n",
       "10   4GB             500GB HDD         Intel HD Graphics 520       No OS   \n",
       "11  16GB             256GB SSD            AMD Radeon Pro 555       macOS   \n",
       "12   4GB             256GB SSD            AMD Radeon R5 M430  Windows 10   \n",
       "13   8GB             256GB SSD         Intel HD Graphics 615       macOS   \n",
       "14   8GB             256GB SSD  Intel Iris Plus Graphics 640       macOS   \n",
       "15   8GB             256GB SSD            AMD Radeon R5 M430  Windows 10   \n",
       "16  16GB             512GB SSD            AMD Radeon Pro 560       macOS   \n",
       "17   8GB               1TB HDD          Nvidia GeForce 940MX       No OS   \n",
       "18   8GB             128GB SSD        Intel UHD Graphics 620  Windows 10   \n",
       "19   8GB  128GB SSD +  1TB HDD       Nvidia GeForce GTX 1050  Windows 10   \n",
       "\n",
       "    Weight  Price_euros received_date  \n",
       "0   1.37kg      1339.69     7/19/2022  \n",
       "1   1.34kg       898.94      4/1/2021  \n",
       "2   1.86kg       575.00     2/18/2022  \n",
       "3   1.83kg      2537.45    11/23/2021  \n",
       "4   1.37kg      1803.60    11/14/2021  \n",
       "5   2.04kg      2139.97      7/8/2021  \n",
       "6   1.34kg      1158.70     5/28/2022  \n",
       "7    1.3kg      1495.00     1/21/2022  \n",
       "8    1.6kg       770.00     5/30/2021  \n",
       "9   1.86kg       393.90     3/15/2021  \n",
       "10  1.86kg       344.99     7/18/2022  \n",
       "11  1.83kg      2439.97    12/13/2022  \n",
       "12   2.2kg       498.90     4/11/2022  \n",
       "13  0.92kg      1262.40    10/13/2021  \n",
       "14  1.37kg      1518.55      2/2/2021  \n",
       "15   2.2kg       745.00     3/27/2022  \n",
       "16  1.83kg      2858.00     6/17/2022  \n",
       "17   2.2kg       499.00     9/25/2022  \n",
       "18  1.22kg       979.00    12/13/2022  \n",
       "19   2.5kg       999.00     7/17/2021  })], return_intermediate_steps=True)"
      ]
     },
     "execution_count": 29,
     "metadata": {},
     "output_type": "execute_result"
    }
   ],
   "source": [
    "df = pd.read_csv(\"../data/raw/laptop.csv\")\n",
    "\n",
    "da_agent = create_pandas_dataframe_agent(\n",
    "    llm=llm,\n",
    "    df=df,\n",
    "    agent_type=\"tool-calling\",\n",
    "    allow_dangerous_code=True,\n",
    "    verbose=True,\n",
    "    return_intermediate_steps=True,\n",
    ")\n",
    "da_agent"
   ]
  },
  {
   "cell_type": "code",
   "execution_count": 30,
   "metadata": {},
   "outputs": [
    {
     "name": "stdout",
     "output_type": "stream",
     "text": [
      "\n",
      "\n",
      "\u001b[1m> Entering new AgentExecutor chain...\u001b[0m\n",
      "\u001b[32;1m\u001b[1;3mThis data appears to be a dataset of laptops with various attributes. Here is a description of each column in the dataframe:\n",
      "\n",
      "1. **Company**: The manufacturer or brand of the laptop (e.g., Apple, HP).\n",
      "2. **Product**: The model name or series of the laptop (e.g., MacBook Pro, 250 G6).\n",
      "3. **TypeName**: The category or type of the laptop (e.g., Ultrabook, Notebook).\n",
      "4. **Inches**: The screen size of the laptop in inches.\n",
      "5. **ScreenResolution**: The resolution of the laptop's screen, which may include additional information such as panel type (e.g., IPS Panel Retina Display 2560x1600).\n",
      "6. **Cpu**: The processor model and speed (e.g., Intel Core i5 2.3GHz).\n",
      "7. **Ram**: The amount of RAM in the laptop (e.g., 8GB, 16GB).\n",
      "8. **Memory**: The storage capacity and type (e.g., 128GB SSD, 256GB SSD).\n",
      "9. **Gpu**: The graphics processing unit in the laptop (e.g., Intel Iris Plus Graphics 640, AMD Radeon Pro 455).\n",
      "10. **OpSys**: The operating system installed on the laptop (e.g., macOS, No OS).\n",
      "11. **Weight**: The weight of the laptop (e.g., 1.37kg, 1.86kg).\n",
      "12. **Price_euros**: The price of the laptop in euros.\n",
      "13. **received_date**: The date when the laptop was received or recorded in the dataset.\n",
      "\n",
      "The dataset provides a comprehensive overview of various laptop models, including their technical specifications, physical attributes, and pricing information.\u001b[0m\n",
      "\n",
      "\u001b[1m> Finished chain.\u001b[0m\n"
     ]
    }
   ],
   "source": [
    "query = \"Describe this data\"\n",
    "response = da_agent(query)"
   ]
  },
  {
   "cell_type": "code",
   "execution_count": 31,
   "metadata": {},
   "outputs": [
    {
     "name": "stdout",
     "output_type": "stream",
     "text": [
      "\n",
      "\n",
      "\u001b[1m> Entering new AgentExecutor chain...\u001b[0m\n",
      "\u001b[32;1m\u001b[1;3m\n",
      "Invoking: `python_repl_ast` with `{'query': \"df['Price_euros'].mean()\"}`\n",
      "\n",
      "\n",
      "\u001b[0m\u001b[36;1m\u001b[1;3m1262.8529999999998\u001b[0m\u001b[32;1m\u001b[1;3mThe average price of laptops is approximately 1262.85 euros.\u001b[0m\n",
      "\n",
      "\u001b[1m> Finished chain.\u001b[0m\n",
      "{'input': 'What is the average price of laptops?', 'output': 'The average price of laptops is approximately 1262.85 euros.', 'intermediate_steps': [(ToolAgentAction(tool='python_repl_ast', tool_input={'query': \"df['Price_euros'].mean()\"}, log='\\nInvoking: `python_repl_ast` with `{\\'query\\': \"df[\\'Price_euros\\'].mean()\"}`\\n\\n\\n', message_log=[AIMessageChunk(content='', additional_kwargs={'tool_calls': [{'index': 0, 'id': 'call_kYli4YWtaZR2nbVZRosSGOkZ', 'function': {'arguments': '{\"query\":\"df[\\'Price_euros\\'].mean()\"}', 'name': 'python_repl_ast'}, 'type': 'function'}]}, response_metadata={'finish_reason': 'tool_calls', 'model_name': 'gpt-4o-2024-05-13', 'system_fingerprint': 'fp_4e2b2da518'}, id='run-f09b8366-0b5e-4036-b755-3c1d07c3f5c4', tool_calls=[{'name': 'python_repl_ast', 'args': {'query': \"df['Price_euros'].mean()\"}, 'id': 'call_kYli4YWtaZR2nbVZRosSGOkZ', 'type': 'tool_call'}], tool_call_chunks=[{'name': 'python_repl_ast', 'args': '{\"query\":\"df[\\'Price_euros\\'].mean()\"}', 'id': 'call_kYli4YWtaZR2nbVZRosSGOkZ', 'index': 0, 'type': 'tool_call_chunk'}])], tool_call_id='call_kYli4YWtaZR2nbVZRosSGOkZ'), 1262.8529999999998)]}\n"
     ]
    }
   ],
   "source": [
    "# Đặt câu hỏi cho đại lý\n",
    "response = da_agent(\"What is the average price of laptops?\")\n",
    "print(response)"
   ]
  },
  {
   "cell_type": "code",
   "execution_count": 32,
   "metadata": {},
   "outputs": [
    {
     "name": "stdout",
     "output_type": "stream",
     "text": [
      "\n",
      "\n",
      "\u001b[1m> Entering new AgentExecutor chain...\u001b[0m\n",
      "\u001b[32;1m\u001b[1;3m\n",
      "Invoking: `python_repl_ast` with `{'query': \"df[df['Price_euros'] > 1000]\"}`\n",
      "\n",
      "\n",
      "\u001b[0m\u001b[36;1m\u001b[1;3m   Company          Product   TypeName  Inches  \\\n",
      "0    Apple      MacBook Pro  Ultrabook    13.3   \n",
      "3    Apple      MacBook Pro  Ultrabook    15.4   \n",
      "4    Apple      MacBook Pro  Ultrabook    13.3   \n",
      "5    Apple      MacBook Pro  Ultrabook    15.4   \n",
      "6    Apple      Macbook Air  Ultrabook    13.3   \n",
      "7     Asus  ZenBook UX430UN  Ultrabook    14.0   \n",
      "11   Apple      MacBook Pro  Ultrabook    15.4   \n",
      "13   Apple      MacBook 12\"  Ultrabook    12.0   \n",
      "14   Apple      MacBook Pro  Ultrabook    13.3   \n",
      "16   Apple      MacBook Pro  Ultrabook    15.4   \n",
      "\n",
      "                      ScreenResolution                         Cpu   Ram  \\\n",
      "0   IPS Panel Retina Display 2560x1600        Intel Core i5 2.3GHz   8GB   \n",
      "3   IPS Panel Retina Display 2880x1800        Intel Core i7 2.7GHz  16GB   \n",
      "4   IPS Panel Retina Display 2560x1600        Intel Core i5 3.1GHz   8GB   \n",
      "5   IPS Panel Retina Display 2880x1800        Intel Core i7 2.2GHz  16GB   \n",
      "6                             1440x900        Intel Core i5 1.8GHz   8GB   \n",
      "7                    Full HD 1920x1080  Intel Core i7 8550U 1.8GHz  16GB   \n",
      "11  IPS Panel Retina Display 2880x1800        Intel Core i7 2.8GHz  16GB   \n",
      "13  IPS Panel Retina Display 2304x1440      Intel Core M m3 1.2GHz   8GB   \n",
      "14  IPS Panel Retina Display 2560x1600        Intel Core i5 2.3GHz   8GB   \n",
      "16  IPS Panel Retina Display 2880x1800        Intel Core i7 2.9GHz  16GB   \n",
      "\n",
      "                 Memory                           Gpu       OpSys  Weight  \\\n",
      "0             128GB SSD  Intel Iris Plus Graphics 640       macOS  1.37kg   \n",
      "3             512GB SSD            AMD Radeon Pro 455       macOS  1.83kg   \n",
      "4             256GB SSD  Intel Iris Plus Graphics 650       macOS  1.37kg   \n",
      "5   256GB Flash Storage       Intel Iris Pro Graphics    Mac OS X  2.04kg   \n",
      "6   256GB Flash Storage        Intel HD Graphics 6000       macOS  1.34kg   \n",
      "7             512GB SSD          Nvidia GeForce MX150  Windows 10   1.3kg   \n",
      "11            256GB SSD            AMD Radeon Pro 555       macOS  1.83kg   \n",
      "13            256GB SSD         Intel HD Graphics 615       macOS  0.92kg   \n",
      "14            256GB SSD  Intel Iris Plus Graphics 640       macOS  1.37kg   \n",
      "16            512GB SSD            AMD Radeon Pro 560       macOS  1.83kg   \n",
      "\n",
      "    Price_euros received_date  \n",
      "0       1339.69     7/19/2022  \n",
      "3       2537.45    11/23/2021  \n",
      "4       1803.60    11/14/2021  \n",
      "5       2139.97      7/8/2021  \n",
      "6       1158.70     5/28/2022  \n",
      "7       1495.00     1/21/2022  \n",
      "11      2439.97    12/13/2022  \n",
      "13      1262.40    10/13/2021  \n",
      "14      1518.55      2/2/2021  \n",
      "16      2858.00     6/17/2022  \u001b[0m\u001b[32;1m\u001b[1;3mDưới đây là danh sách các laptop có giá trên 1000 euros:\n",
      "\n",
      "|    | Company   | Product        | TypeName   | Inches | ScreenResolution                   | Cpu                        | Ram   | Memory              | Gpu                          | OpSys   | Weight   |   Price_euros | received_date   |\n",
      "|---:|:----------|:---------------|:-----------|--------|:-----------------------------------|:---------------------------|:------|:--------------------|:-----------------------------|:--------|:---------|--------------:|:----------------|\n",
      "|  0 | Apple     | MacBook Pro    | Ultrabook  | 13.3   | IPS Panel Retina Display 2560x1600 | Intel Core i5 2.3GHz       | 8GB   | 128GB SSD           | Intel Iris Plus Graphics 640 | macOS   | 1.37kg   |       1339.69 | 7/19/2022       |\n",
      "|  3 | Apple     | MacBook Pro    | Ultrabook  | 15.4   | IPS Panel Retina Display 2880x1800 | Intel Core i7 2.7GHz       | 16GB  | 512GB SSD           | AMD Radeon Pro 455           | macOS   | 1.83kg   |       2537.45 | 11/23/2021      |\n",
      "|  4 | Apple     | MacBook Pro    | Ultrabook  | 13.3   | IPS Panel Retina Display 2560x1600 | Intel Core i5 3.1GHz       | 8GB   | 256GB SSD           | Intel Iris Plus Graphics 650 | macOS   | 1.37kg   |       1803.6  | 11/14/2021      |\n",
      "|  5 | Apple     | MacBook Pro    | Ultrabook  | 15.4   | IPS Panel Retina Display 2880x1800 | Intel Core i7 2.2GHz       | 16GB  | 256GB Flash Storage | Intel Iris Pro Graphics      | Mac OS X| 2.04kg   |       2139.97 | 7/8/2021        |\n",
      "|  6 | Apple     | Macbook Air    | Ultrabook  | 13.3   | 1440x900                           | Intel Core i5 1.8GHz       | 8GB   | 256GB Flash Storage | Intel HD Graphics 6000       | macOS   | 1.34kg   |       1158.7  | 5/28/2022       |\n",
      "|  7 | Asus      | ZenBook UX430UN| Ultrabook  | 14.0   | Full HD 1920x1080                  | Intel Core i7 8550U 1.8GHz | 16GB  | 512GB SSD           | Nvidia GeForce MX150         | Windows 10| 1.3kg  |       1495    | 1/21/2022       |\n",
      "| 11 | Apple     | MacBook Pro    | Ultrabook  | 15.4   | IPS Panel Retina Display 2880x1800 | Intel Core i7 2.8GHz       | 16GB  | 256GB SSD           | AMD Radeon Pro 555           | macOS   | 1.83kg   |       2439.97 | 12/13/2022      |\n",
      "| 13 | Apple     | MacBook 12\"    | Ultrabook  | 12.0   | IPS Panel Retina Display 2304x1440 | Intel Core M m3 1.2GHz     | 8GB   | 256GB SSD           | Intel HD Graphics 615        | macOS   | 0.92kg   |       1262.4  | 10/13/2021      |\n",
      "| 14 | Apple     | MacBook Pro    | Ultrabook  | 13.3   | IPS Panel Retina Display 2560x1600 | Intel Core i5 2.3GHz       | 8GB   | 256GB SSD           | Intel Iris Plus Graphics 640 | macOS   | 1.37kg   |       1518.55 | 2/2/2021        |\n",
      "| 16 | Apple     | MacBook Pro    | Ultrabook  | 15.4   | IPS Panel Retina Display 2880x1800 | Intel Core i7 2.9GHz       | 16GB  | 512GB SSD           | AMD Radeon Pro 560           | macOS   | \u001b[0m\n",
      "\n",
      "\u001b[1m> Finished chain.\u001b[0m\n",
      "{'input': 'các laptop có giá trên 1000 euros.', 'output': 'Dưới đây là danh sách các laptop có giá trên 1000 euros:\\n\\n|    | Company   | Product        | TypeName   | Inches | ScreenResolution                   | Cpu                        | Ram   | Memory              | Gpu                          | OpSys   | Weight   |   Price_euros | received_date   |\\n|---:|:----------|:---------------|:-----------|--------|:-----------------------------------|:---------------------------|:------|:--------------------|:-----------------------------|:--------|:---------|--------------:|:----------------|\\n|  0 | Apple     | MacBook Pro    | Ultrabook  | 13.3   | IPS Panel Retina Display 2560x1600 | Intel Core i5 2.3GHz       | 8GB   | 128GB SSD           | Intel Iris Plus Graphics 640 | macOS   | 1.37kg   |       1339.69 | 7/19/2022       |\\n|  3 | Apple     | MacBook Pro    | Ultrabook  | 15.4   | IPS Panel Retina Display 2880x1800 | Intel Core i7 2.7GHz       | 16GB  | 512GB SSD           | AMD Radeon Pro 455           | macOS   | 1.83kg   |       2537.45 | 11/23/2021      |\\n|  4 | Apple     | MacBook Pro    | Ultrabook  | 13.3   | IPS Panel Retina Display 2560x1600 | Intel Core i5 3.1GHz       | 8GB   | 256GB SSD           | Intel Iris Plus Graphics 650 | macOS   | 1.37kg   |       1803.6  | 11/14/2021      |\\n|  5 | Apple     | MacBook Pro    | Ultrabook  | 15.4   | IPS Panel Retina Display 2880x1800 | Intel Core i7 2.2GHz       | 16GB  | 256GB Flash Storage | Intel Iris Pro Graphics      | Mac OS X| 2.04kg   |       2139.97 | 7/8/2021        |\\n|  6 | Apple     | Macbook Air    | Ultrabook  | 13.3   | 1440x900                           | Intel Core i5 1.8GHz       | 8GB   | 256GB Flash Storage | Intel HD Graphics 6000       | macOS   | 1.34kg   |       1158.7  | 5/28/2022       |\\n|  7 | Asus      | ZenBook UX430UN| Ultrabook  | 14.0   | Full HD 1920x1080                  | Intel Core i7 8550U 1.8GHz | 16GB  | 512GB SSD           | Nvidia GeForce MX150         | Windows 10| 1.3kg  |       1495    | 1/21/2022       |\\n| 11 | Apple     | MacBook Pro    | Ultrabook  | 15.4   | IPS Panel Retina Display 2880x1800 | Intel Core i7 2.8GHz       | 16GB  | 256GB SSD           | AMD Radeon Pro 555           | macOS   | 1.83kg   |       2439.97 | 12/13/2022      |\\n| 13 | Apple     | MacBook 12\"    | Ultrabook  | 12.0   | IPS Panel Retina Display 2304x1440 | Intel Core M m3 1.2GHz     | 8GB   | 256GB SSD           | Intel HD Graphics 615        | macOS   | 0.92kg   |       1262.4  | 10/13/2021      |\\n| 14 | Apple     | MacBook Pro    | Ultrabook  | 13.3   | IPS Panel Retina Display 2560x1600 | Intel Core i5 2.3GHz       | 8GB   | 256GB SSD           | Intel Iris Plus Graphics 640 | macOS   | 1.37kg   |       1518.55 | 2/2/2021        |\\n| 16 | Apple     | MacBook Pro    | Ultrabook  | 15.4   | IPS Panel Retina Display 2880x1800 | Intel Core i7 2.9GHz       | 16GB  | 512GB SSD           | AMD Radeon Pro 560           | macOS   | ', 'intermediate_steps': [(ToolAgentAction(tool='python_repl_ast', tool_input={'query': \"df[df['Price_euros'] > 1000]\"}, log='\\nInvoking: `python_repl_ast` with `{\\'query\\': \"df[df[\\'Price_euros\\'] > 1000]\"}`\\n\\n\\n', message_log=[AIMessageChunk(content='', additional_kwargs={'tool_calls': [{'index': 0, 'id': 'call_Hl2JSsauYvei9Y0l9LVgnbeJ', 'function': {'arguments': '{\\n  \"query\": \"df[df[\\'Price_euros\\'] > 1000]\"\\n}', 'name': 'python_repl_ast'}, 'type': 'function'}]}, response_metadata={'finish_reason': 'tool_calls', 'model_name': 'gpt-4o-2024-05-13', 'system_fingerprint': 'fp_4e2b2da518'}, id='run-fd44afb7-109d-420c-b36d-39bc942cdbbc', tool_calls=[{'name': 'python_repl_ast', 'args': {'query': \"df[df['Price_euros'] > 1000]\"}, 'id': 'call_Hl2JSsauYvei9Y0l9LVgnbeJ', 'type': 'tool_call'}], tool_call_chunks=[{'name': 'python_repl_ast', 'args': '{\\n  \"query\": \"df[df[\\'Price_euros\\'] > 1000]\"\\n}', 'id': 'call_Hl2JSsauYvei9Y0l9LVgnbeJ', 'index': 0, 'type': 'tool_call_chunk'}])], tool_call_id='call_Hl2JSsauYvei9Y0l9LVgnbeJ'),    Company          Product   TypeName  Inches  \\\n",
      "0    Apple      MacBook Pro  Ultrabook    13.3   \n",
      "3    Apple      MacBook Pro  Ultrabook    15.4   \n",
      "4    Apple      MacBook Pro  Ultrabook    13.3   \n",
      "5    Apple      MacBook Pro  Ultrabook    15.4   \n",
      "6    Apple      Macbook Air  Ultrabook    13.3   \n",
      "7     Asus  ZenBook UX430UN  Ultrabook    14.0   \n",
      "11   Apple      MacBook Pro  Ultrabook    15.4   \n",
      "13   Apple      MacBook 12\"  Ultrabook    12.0   \n",
      "14   Apple      MacBook Pro  Ultrabook    13.3   \n",
      "16   Apple      MacBook Pro  Ultrabook    15.4   \n",
      "\n",
      "                      ScreenResolution                         Cpu   Ram  \\\n",
      "0   IPS Panel Retina Display 2560x1600        Intel Core i5 2.3GHz   8GB   \n",
      "3   IPS Panel Retina Display 2880x1800        Intel Core i7 2.7GHz  16GB   \n",
      "4   IPS Panel Retina Display 2560x1600        Intel Core i5 3.1GHz   8GB   \n",
      "5   IPS Panel Retina Display 2880x1800        Intel Core i7 2.2GHz  16GB   \n",
      "6                             1440x900        Intel Core i5 1.8GHz   8GB   \n",
      "7                    Full HD 1920x1080  Intel Core i7 8550U 1.8GHz  16GB   \n",
      "11  IPS Panel Retina Display 2880x1800        Intel Core i7 2.8GHz  16GB   \n",
      "13  IPS Panel Retina Display 2304x1440      Intel Core M m3 1.2GHz   8GB   \n",
      "14  IPS Panel Retina Display 2560x1600        Intel Core i5 2.3GHz   8GB   \n",
      "16  IPS Panel Retina Display 2880x1800        Intel Core i7 2.9GHz  16GB   \n",
      "\n",
      "                 Memory                           Gpu       OpSys  Weight  \\\n",
      "0             128GB SSD  Intel Iris Plus Graphics 640       macOS  1.37kg   \n",
      "3             512GB SSD            AMD Radeon Pro 455       macOS  1.83kg   \n",
      "4             256GB SSD  Intel Iris Plus Graphics 650       macOS  1.37kg   \n",
      "5   256GB Flash Storage       Intel Iris Pro Graphics    Mac OS X  2.04kg   \n",
      "6   256GB Flash Storage        Intel HD Graphics 6000       macOS  1.34kg   \n",
      "7             512GB SSD          Nvidia GeForce MX150  Windows 10   1.3kg   \n",
      "11            256GB SSD            AMD Radeon Pro 555       macOS  1.83kg   \n",
      "13            256GB SSD         Intel HD Graphics 615       macOS  0.92kg   \n",
      "14            256GB SSD  Intel Iris Plus Graphics 640       macOS  1.37kg   \n",
      "16            512GB SSD            AMD Radeon Pro 560       macOS  1.83kg   \n",
      "\n",
      "    Price_euros received_date  \n",
      "0       1339.69     7/19/2022  \n",
      "3       2537.45    11/23/2021  \n",
      "4       1803.60    11/14/2021  \n",
      "5       2139.97      7/8/2021  \n",
      "6       1158.70     5/28/2022  \n",
      "7       1495.00     1/21/2022  \n",
      "11      2439.97    12/13/2022  \n",
      "13      1262.40    10/13/2021  \n",
      "14      1518.55      2/2/2021  \n",
      "16      2858.00     6/17/2022  )]}\n"
     ]
    }
   ],
   "source": [
    "# Truy vấn các laptop có giá trên 1000 euros\n",
    "response = da_agent(\"các laptop có giá trên 1000 euros.\")\n",
    "print(response)"
   ]
  },
  {
   "cell_type": "code",
   "execution_count": 33,
   "metadata": {},
   "outputs": [
    {
     "name": "stdout",
     "output_type": "stream",
     "text": [
      "\n",
      "\n",
      "\u001b[1m> Entering new AgentExecutor chain...\u001b[0m\n",
      "\u001b[32;1m\u001b[1;3m\n",
      "Invoking: `python_repl_ast` with `{'query': \"df.loc[df['Price_euros'].idxmax()]\"}`\n",
      "\n",
      "\n",
      "\u001b[0m\u001b[36;1m\u001b[1;3mCompany                                          Apple\n",
      "Product                                    MacBook Pro\n",
      "TypeName                                     Ultrabook\n",
      "Inches                                            15.4\n",
      "ScreenResolution    IPS Panel Retina Display 2880x1800\n",
      "Cpu                               Intel Core i7 2.9GHz\n",
      "Ram                                               16GB\n",
      "Memory                                       512GB SSD\n",
      "Gpu                                 AMD Radeon Pro 560\n",
      "OpSys                                            macOS\n",
      "Weight                                          1.83kg\n",
      "Price_euros                                     2858.0\n",
      "received_date                                6/17/2022\n",
      "Name: 16, dtype: object\u001b[0m\u001b[32;1m\u001b[1;3mThe most expensive laptop in the dataframe is:\n",
      "\n",
      "- **Company:** Apple\n",
      "- **Product:** MacBook Pro\n",
      "- **TypeName:** Ultrabook\n",
      "- **Inches:** 15.4\n",
      "- **ScreenResolution:** IPS Panel Retina Display 2880x1800\n",
      "- **Cpu:** Intel Core i7 2.9GHz\n",
      "- **Ram:** 16GB\n",
      "- **Memory:** 512GB SSD\n",
      "- **Gpu:** AMD Radeon Pro 560\n",
      "- **OpSys:** macOS\n",
      "- **Weight:** 1.83kg\n",
      "- **Price:** 2858.0 euros\n",
      "- **Received Date:** 6/17/2022\u001b[0m\n",
      "\n",
      "\u001b[1m> Finished chain.\u001b[0m\n",
      "Response: {'input': 'What is the most expensive laptop?', 'output': 'The most expensive laptop in the dataframe is:\\n\\n- **Company:** Apple\\n- **Product:** MacBook Pro\\n- **TypeName:** Ultrabook\\n- **Inches:** 15.4\\n- **ScreenResolution:** IPS Panel Retina Display 2880x1800\\n- **Cpu:** Intel Core i7 2.9GHz\\n- **Ram:** 16GB\\n- **Memory:** 512GB SSD\\n- **Gpu:** AMD Radeon Pro 560\\n- **OpSys:** macOS\\n- **Weight:** 1.83kg\\n- **Price:** 2858.0 euros\\n- **Received Date:** 6/17/2022', 'intermediate_steps': [(ToolAgentAction(tool='python_repl_ast', tool_input={'query': \"df.loc[df['Price_euros'].idxmax()]\"}, log='\\nInvoking: `python_repl_ast` with `{\\'query\\': \"df.loc[df[\\'Price_euros\\'].idxmax()]\"}`\\n\\n\\n', message_log=[AIMessageChunk(content='', additional_kwargs={'tool_calls': [{'index': 0, 'id': 'call_Ud2vVlkOAYdoExBNS8YBzTD6', 'function': {'arguments': '{\\n  \"query\": \"df.loc[df[\\'Price_euros\\'].idxmax()]\"\\n}', 'name': 'python_repl_ast'}, 'type': 'function'}]}, response_metadata={'finish_reason': 'tool_calls', 'model_name': 'gpt-4o-2024-05-13', 'system_fingerprint': 'fp_4e2b2da518'}, id='run-cbdbcb48-810e-4ee9-9b4b-13136dd32e26', tool_calls=[{'name': 'python_repl_ast', 'args': {'query': \"df.loc[df['Price_euros'].idxmax()]\"}, 'id': 'call_Ud2vVlkOAYdoExBNS8YBzTD6', 'type': 'tool_call'}], tool_call_chunks=[{'name': 'python_repl_ast', 'args': '{\\n  \"query\": \"df.loc[df[\\'Price_euros\\'].idxmax()]\"\\n}', 'id': 'call_Ud2vVlkOAYdoExBNS8YBzTD6', 'index': 0, 'type': 'tool_call_chunk'}])], tool_call_id='call_Ud2vVlkOAYdoExBNS8YBzTD6'), Company                                          Apple\n",
      "Product                                    MacBook Pro\n",
      "TypeName                                     Ultrabook\n",
      "Inches                                            15.4\n",
      "ScreenResolution    IPS Panel Retina Display 2880x1800\n",
      "Cpu                               Intel Core i7 2.9GHz\n",
      "Ram                                               16GB\n",
      "Memory                                       512GB SSD\n",
      "Gpu                                 AMD Radeon Pro 560\n",
      "OpSys                                            macOS\n",
      "Weight                                          1.83kg\n",
      "Price_euros                                     2858.0\n",
      "received_date                                6/17/2022\n",
      "Name: 16, dtype: object)]}\n",
      "Intermediate Steps: [(ToolAgentAction(tool='python_repl_ast', tool_input={'query': \"df.loc[df['Price_euros'].idxmax()]\"}, log='\\nInvoking: `python_repl_ast` with `{\\'query\\': \"df.loc[df[\\'Price_euros\\'].idxmax()]\"}`\\n\\n\\n', message_log=[AIMessageChunk(content='', additional_kwargs={'tool_calls': [{'index': 0, 'id': 'call_Ud2vVlkOAYdoExBNS8YBzTD6', 'function': {'arguments': '{\\n  \"query\": \"df.loc[df[\\'Price_euros\\'].idxmax()]\"\\n}', 'name': 'python_repl_ast'}, 'type': 'function'}]}, response_metadata={'finish_reason': 'tool_calls', 'model_name': 'gpt-4o-2024-05-13', 'system_fingerprint': 'fp_4e2b2da518'}, id='run-cbdbcb48-810e-4ee9-9b4b-13136dd32e26', tool_calls=[{'name': 'python_repl_ast', 'args': {'query': \"df.loc[df['Price_euros'].idxmax()]\"}, 'id': 'call_Ud2vVlkOAYdoExBNS8YBzTD6', 'type': 'tool_call'}], tool_call_chunks=[{'name': 'python_repl_ast', 'args': '{\\n  \"query\": \"df.loc[df[\\'Price_euros\\'].idxmax()]\"\\n}', 'id': 'call_Ud2vVlkOAYdoExBNS8YBzTD6', 'index': 0, 'type': 'tool_call_chunk'}])], tool_call_id='call_Ud2vVlkOAYdoExBNS8YBzTD6'), Company                                          Apple\n",
      "Product                                    MacBook Pro\n",
      "TypeName                                     Ultrabook\n",
      "Inches                                            15.4\n",
      "ScreenResolution    IPS Panel Retina Display 2880x1800\n",
      "Cpu                               Intel Core i7 2.9GHz\n",
      "Ram                                               16GB\n",
      "Memory                                       512GB SSD\n",
      "Gpu                                 AMD Radeon Pro 560\n",
      "OpSys                                            macOS\n",
      "Weight                                          1.83kg\n",
      "Price_euros                                     2858.0\n",
      "received_date                                6/17/2022\n",
      "Name: 16, dtype: object)]\n"
     ]
    }
   ],
   "source": [
    "# Đặt câu hỏi cho đại lý và lấy kết quả\n",
    "response = da_agent(\"What is the most expensive laptop?\")\n",
    "print(\"Response:\", response)\n",
    "\n",
    "# Nếu các bước trung gian được bao gồm trong response, truy cập chúng\n",
    "if 'intermediate_steps' in response:\n",
    "    intermediate_steps = response['intermediate_steps']\n",
    "    print(\"Intermediate Steps:\", intermediate_steps)\n",
    "else:\n",
    "    print(\"No intermediate steps found.\")"
   ]
  },
  {
   "cell_type": "code",
   "execution_count": 34,
   "metadata": {},
   "outputs": [
    {
     "name": "stdout",
     "output_type": "stream",
     "text": [
      "\n",
      "\n",
      "\u001b[1m> Entering new AgentExecutor chain...\u001b[0m\n",
      "\u001b[32;1m\u001b[1;3m\n",
      "Invoking: `python_repl_ast` with `{'query': \"df.loc[df['Price_euros'].idxmax()]\"}`\n",
      "\n",
      "\n",
      "\u001b[0m\u001b[36;1m\u001b[1;3mCompany                                          Apple\n",
      "Product                                    MacBook Pro\n",
      "TypeName                                     Ultrabook\n",
      "Inches                                            15.4\n",
      "ScreenResolution    IPS Panel Retina Display 2880x1800\n",
      "Cpu                               Intel Core i7 2.9GHz\n",
      "Ram                                               16GB\n",
      "Memory                                       512GB SSD\n",
      "Gpu                                 AMD Radeon Pro 560\n",
      "OpSys                                            macOS\n",
      "Weight                                          1.83kg\n",
      "Price_euros                                     2858.0\n",
      "received_date                                6/17/2022\n",
      "Name: 16, dtype: object\u001b[0m\u001b[32;1m\u001b[1;3mThe most expensive laptop in the dataframe is:\n",
      "\n",
      "- **Company:** Apple\n",
      "- **Product:** MacBook Pro\n",
      "- **TypeName:** Ultrabook\n",
      "- **Inches:** 15.4\n",
      "- **ScreenResolution:** IPS Panel Retina Display 2880x1800\n",
      "- **Cpu:** Intel Core i7 2.9GHz\n",
      "- **Ram:** 16GB\n",
      "- **Memory:** 512GB SSD\n",
      "- **Gpu:** AMD Radeon Pro 560\n",
      "- **OpSys:** macOS\n",
      "- **Weight:** 1.83kg\n",
      "- **Price:** 2858.0 euros\n",
      "- **Received Date:** 6/17/2022\u001b[0m\n",
      "\n",
      "\u001b[1m> Finished chain.\u001b[0m\n",
      "Response: {'input': 'What is the most expensive laptop?', 'output': 'The most expensive laptop in the dataframe is:\\n\\n- **Company:** Apple\\n- **Product:** MacBook Pro\\n- **TypeName:** Ultrabook\\n- **Inches:** 15.4\\n- **ScreenResolution:** IPS Panel Retina Display 2880x1800\\n- **Cpu:** Intel Core i7 2.9GHz\\n- **Ram:** 16GB\\n- **Memory:** 512GB SSD\\n- **Gpu:** AMD Radeon Pro 560\\n- **OpSys:** macOS\\n- **Weight:** 1.83kg\\n- **Price:** 2858.0 euros\\n- **Received Date:** 6/17/2022', 'intermediate_steps': [(ToolAgentAction(tool='python_repl_ast', tool_input={'query': \"df.loc[df['Price_euros'].idxmax()]\"}, log='\\nInvoking: `python_repl_ast` with `{\\'query\\': \"df.loc[df[\\'Price_euros\\'].idxmax()]\"}`\\n\\n\\n', message_log=[AIMessageChunk(content='', additional_kwargs={'tool_calls': [{'index': 0, 'id': 'call_3TxpL2P1DJH5sfNLOrDvVj5O', 'function': {'arguments': '{\\n  \"query\": \"df.loc[df[\\'Price_euros\\'].idxmax()]\"\\n}', 'name': 'python_repl_ast'}, 'type': 'function'}]}, response_metadata={'finish_reason': 'tool_calls', 'model_name': 'gpt-4o-2024-05-13', 'system_fingerprint': 'fp_4e2b2da518'}, id='run-ba98bae8-8d2e-47d2-b260-116ce46e732f', tool_calls=[{'name': 'python_repl_ast', 'args': {'query': \"df.loc[df['Price_euros'].idxmax()]\"}, 'id': 'call_3TxpL2P1DJH5sfNLOrDvVj5O', 'type': 'tool_call'}], tool_call_chunks=[{'name': 'python_repl_ast', 'args': '{\\n  \"query\": \"df.loc[df[\\'Price_euros\\'].idxmax()]\"\\n}', 'id': 'call_3TxpL2P1DJH5sfNLOrDvVj5O', 'index': 0, 'type': 'tool_call_chunk'}])], tool_call_id='call_3TxpL2P1DJH5sfNLOrDvVj5O'), Company                                          Apple\n",
      "Product                                    MacBook Pro\n",
      "TypeName                                     Ultrabook\n",
      "Inches                                            15.4\n",
      "ScreenResolution    IPS Panel Retina Display 2880x1800\n",
      "Cpu                               Intel Core i7 2.9GHz\n",
      "Ram                                               16GB\n",
      "Memory                                       512GB SSD\n",
      "Gpu                                 AMD Radeon Pro 560\n",
      "OpSys                                            macOS\n",
      "Weight                                          1.83kg\n",
      "Price_euros                                     2858.0\n",
      "received_date                                6/17/2022\n",
      "Name: 16, dtype: object)]}\n",
      "Intermediate Steps: [(ToolAgentAction(tool='python_repl_ast', tool_input={'query': \"df.loc[df['Price_euros'].idxmax()]\"}, log='\\nInvoking: `python_repl_ast` with `{\\'query\\': \"df.loc[df[\\'Price_euros\\'].idxmax()]\"}`\\n\\n\\n', message_log=[AIMessageChunk(content='', additional_kwargs={'tool_calls': [{'index': 0, 'id': 'call_3TxpL2P1DJH5sfNLOrDvVj5O', 'function': {'arguments': '{\\n  \"query\": \"df.loc[df[\\'Price_euros\\'].idxmax()]\"\\n}', 'name': 'python_repl_ast'}, 'type': 'function'}]}, response_metadata={'finish_reason': 'tool_calls', 'model_name': 'gpt-4o-2024-05-13', 'system_fingerprint': 'fp_4e2b2da518'}, id='run-ba98bae8-8d2e-47d2-b260-116ce46e732f', tool_calls=[{'name': 'python_repl_ast', 'args': {'query': \"df.loc[df['Price_euros'].idxmax()]\"}, 'id': 'call_3TxpL2P1DJH5sfNLOrDvVj5O', 'type': 'tool_call'}], tool_call_chunks=[{'name': 'python_repl_ast', 'args': '{\\n  \"query\": \"df.loc[df[\\'Price_euros\\'].idxmax()]\"\\n}', 'id': 'call_3TxpL2P1DJH5sfNLOrDvVj5O', 'index': 0, 'type': 'tool_call_chunk'}])], tool_call_id='call_3TxpL2P1DJH5sfNLOrDvVj5O'), Company                                          Apple\n",
      "Product                                    MacBook Pro\n",
      "TypeName                                     Ultrabook\n",
      "Inches                                            15.4\n",
      "ScreenResolution    IPS Panel Retina Display 2880x1800\n",
      "Cpu                               Intel Core i7 2.9GHz\n",
      "Ram                                               16GB\n",
      "Memory                                       512GB SSD\n",
      "Gpu                                 AMD Radeon Pro 560\n",
      "OpSys                                            macOS\n",
      "Weight                                          1.83kg\n",
      "Price_euros                                     2858.0\n",
      "received_date                                6/17/2022\n",
      "Name: 16, dtype: object)]\n",
      "Last step is not in expected format or is empty.\n"
     ]
    }
   ],
   "source": [
    "# Đặt câu hỏi cho đại lý và lấy kết quả\n",
    "response = da_agent(\"What is the most expensive laptop?\")\n",
    "print(\"Response:\", response)\n",
    "\n",
    "# Nếu các bước trung gian được bao gồm trong response, truy cập chúng\n",
    "if 'intermediate_steps' in response:\n",
    "    intermediate_steps = response['intermediate_steps']\n",
    "    print(\"Intermediate Steps:\", intermediate_steps)\n",
    "\n",
    "    # Kiểm tra và in query từ bước trung gian cuối cùng\n",
    "    if intermediate_steps:\n",
    "        last_step = intermediate_steps[-1]\n",
    "        \n",
    "        # Kiểm tra nếu last_step là danh sách và không trống\n",
    "        if isinstance(last_step, list) and last_step:\n",
    "            last_tool_input = last_step[0].tool_input\n",
    "            \n",
    "            # Kiểm tra nếu last_tool_input chứa 'query'\n",
    "            if 'query' in last_tool_input:\n",
    "                print(last_tool_input['query'])\n",
    "            else:\n",
    "                print(\"No 'query' found in the last step's tool_input.\")\n",
    "        else:\n",
    "            print(\"Last step is not in expected format or is empty.\")\n",
    "    else:\n",
    "        print(\"No intermediate steps found.\")\n",
    "else:\n",
    "    print(\"No intermediate steps found in response.\")"
   ]
  },
  {
   "cell_type": "code",
   "execution_count": 35,
   "metadata": {},
   "outputs": [
    {
     "name": "stdout",
     "output_type": "stream",
     "text": [
      "\n",
      "\n",
      "\u001b[1m> Entering new AgentExecutor chain...\u001b[0m\n"
     ]
    },
    {
     "data": {
      "image/png": "[encoded data removed]",
      "text/plain": [
       "<Figure size 640x480 with 1 Axes>"
      ]
     },
     "metadata": {},
     "output_type": "display_data"
    },
    {
     "name": "stdout",
     "output_type": "stream",
     "text": [
      "\u001b[32;1m\u001b[1;3m\n",
      "Invoking: `python_repl_ast` with `{'query': \"import matplotlib.pyplot as plt\\nplt.scatter(df['Product'], df['Price_euros'])\\nplt.xlabel('Product')\\nplt.ylabel('Price in Euros')\\nplt.title('Scatter Plot of Product vs Price')\\nplt.xticks(rotation=90)\\nplt.show()\"}`\n",
      "\n",
      "\n",
      "\u001b[0m\u001b[36;1m\u001b[1;3m\u001b[0m\u001b[32;1m\u001b[1;3mThe scatter plot of Product vs Price has been generated. The x-axis represents the different products, and the y-axis represents the price in euros. The plot shows the distribution of prices for each product.\u001b[0m\n",
      "\n",
      "\u001b[1m> Finished chain.\u001b[0m\n"
     ]
    }
   ],
   "source": [
    "query = \"plot scatter plot of Product and Price\"\n",
    "response = da_agent(query)"
   ]
  },
  {
   "cell_type": "code",
   "execution_count": 36,
   "metadata": {},
   "outputs": [
    {
     "name": "stdout",
     "output_type": "stream",
     "text": [
      "import matplotlib.pyplot as plt\n",
      "plt.scatter(df['Product'], df['Price_euros'])\n",
      "plt.xlabel('Product')\n",
      "plt.ylabel('Price in Euros')\n",
      "plt.title('Scatter Plot of Product vs Price')\n",
      "plt.xticks(rotation=90)\n",
      "plt.show()\n"
     ]
    }
   ],
   "source": [
    "print(response[\"intermediate_steps\"][-1][0].tool_input['query'])"
   ]
  },
  {
   "cell_type": "code",
   "execution_count": null,
   "metadata": {},
   "outputs": [],
   "source": []
  }
 ],
 "metadata": {
  "kernelspec": {
   "display_name": ".venv",
   "language": "python",
   "name": "python3"
  },
  "language_info": {
   "codemirror_mode": {
    "name": "ipython",
    "version": 3
   },
   "file_extension": ".py",
   "mimetype": "text/x-python",
   "name": "python",
   "nbconvert_exporter": "python",
   "pygments_lexer": "ipython3",
   "version": "3.10.14"
  }
 },
 "nbformat": 4,
 "nbformat_minor": 2
}
